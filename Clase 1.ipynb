{
 "cells": [
  {
   "cell_type": "markdown",
   "metadata": {},
   "source": [
    "\n",
    "<h1>Agenda del Día</h1>\n",
    "<ol>\n",
    "    <li>Conocernos</li>\n",
    "    <li>The Zen of Python</li>\n",
    "    <li>Conocer Jupyter</li>\n",
    "    <li>Tipos de variables\n",
    "            <ul>\n",
    "                <li><b>Comments</b></li>\n",
    "                <li><i>Strings</i></li>\n",
    "                <li><i>Integers</i></li>\n",
    "                <li><i>Floats</i></li>\n",
    "                <li><i>Booleans</i></li>\n",
    "            </ul>\n",
    "    </li>\n",
    "     <li>Operaciones aritméticas</li>\n",
    "   \n",
    "\n",
    "\n",
    "</ol>\n"
   ]
  },
  {
   "cell_type": "code",
   "execution_count": 34,
   "metadata": {},
   "outputs": [],
   "source": [
    "import this"
   ]
  },
  {
   "cell_type": "code",
   "execution_count": 45,
   "metadata": {},
   "outputs": [
    {
     "name": "stdout",
     "output_type": "stream",
     "text": [
      "Shane\n",
      "Reilly\n"
     ]
    }
   ],
   "source": [
    "nombre = \"Shane\"\n",
    "apellido = \"Reilly\"\n",
    "\n",
    "print(nombre)\n",
    "print(apellido)"
   ]
  },
  {
   "cell_type": "code",
   "execution_count": 52,
   "metadata": {},
   "outputs": [
    {
     "name": "stdout",
     "output_type": "stream",
     "text": [
      "Esto es 'un' string\n",
      "Esto es un string\n",
      "Esto es un string \"Hola\"\n",
      "\n",
      "asdfalskdjasdf\n",
      "sadfjasdflkasjdflña\n",
      "asdfkljasldfkjas\n",
      "as´dfjasdpfoj\n",
      "\n",
      "\n",
      "\n",
      "\n",
      "\n"
     ]
    }
   ],
   "source": [
    "print(\"Esto es 'un' string\")\n",
    "print('Esto es un string')\n",
    "print('Esto es un string \"Hola\"')\n",
    "\n",
    "string = \"\"\"\n",
    "asdfalskdjasdf\n",
    "sadfjasdflkasjdflña\n",
    "asdfkljasldfkjas\n",
    "as´dfjasdpfoj\n",
    "\"\"\"\n",
    "\n",
    "\n",
    "\n",
    "print(string)\n",
    "\n"
   ]
  },
  {
   "cell_type": "code",
   "execution_count": 61,
   "metadata": {
    "scrolled": true
   },
   "outputs": [
    {
     "name": "stdout",
     "output_type": "stream",
     "text": [
      "Bienvenido De Vuelta, Shane Reilly12312___312\n",
      "BIENVENIDO DE VUELTA, SHANE REILLY12312___312\n",
      "bienvenido de vuelta, shane reilly12312___312\n"
     ]
    }
   ],
   "source": [
    "nombre = \"shane\"\n",
    "apellido = \"reilly12312___312\"\n",
    "nom_completo = f\"Bienvenido de vuelta, {nombre} {apellido}\"\n",
    "\n",
    "print(nom_completo.title())\n",
    "print(nom_completo.upper())\n",
    "print(nom_completo.lower())"
   ]
  },
  {
   "cell_type": "code",
   "execution_count": 65,
   "metadata": {},
   "outputs": [
    {
     "name": "stdout",
     "output_type": "stream",
     "text": [
      "FFFFF ggggg\n",
      "\tFFFFF ggggg\n",
      "FFFFF\n",
      "ggggg\n"
     ]
    }
   ],
   "source": [
    "string1= \"FFFFF\"\n",
    "string2= \"ggggg\"\n",
    "\n",
    "str_completo = f\"{string1} {string2}\"\n",
    "str_completot = f\"\\t{string1} {string2}\"\n",
    "str_completon = f\"{string1}\\n{string2}\"\n",
    "print(str_completo)\n",
    "print(str_completot)\n",
    "print(str_completon)"
   ]
  },
  {
   "cell_type": "code",
   "execution_count": 70,
   "metadata": {
    "scrolled": true
   },
   "outputs": [
    {
     "name": "stdout",
     "output_type": "stream",
     "text": [
      " hola \n",
      " hola\n",
      "hola \n",
      "hola\n"
     ]
    }
   ],
   "source": [
    "string4 = \" hola \"\n",
    "print(string4)\n",
    "print(string4.rstrip())\n",
    "print(string4.lstrip())\n",
    "print(string4.strip())"
   ]
  },
  {
   "cell_type": "code",
   "execution_count": 74,
   "metadata": {},
   "outputs": [
    {
     "name": "stdout",
     "output_type": "stream",
     "text": [
      "Estoy aprendiendo a cocinar\n",
      "Estoy aprendiendo a programar\n"
     ]
    }
   ],
   "source": [
    "msg = \"Estoy aprendiendo a cocinar\"\n",
    "print(msg)\n",
    "msg = msg.replace(\"cocinar\",\"programar\")\n",
    "print(msg)\n"
   ]
  },
  {
   "cell_type": "code",
   "execution_count": 78,
   "metadata": {},
   "outputs": [
    {
     "name": "stdout",
     "output_type": "stream",
     "text": [
      "32\n"
     ]
    }
   ],
   "source": [
    "msg1 = \"Estoy aprendiendo a 11111cocinar\"\n",
    "\n",
    "print(len(msg1))\n"
   ]
  },
  {
   "cell_type": "code",
   "execution_count": 82,
   "metadata": {},
   "outputs": [
    {
     "name": "stdout",
     "output_type": "stream",
     "text": [
      "t\n"
     ]
    }
   ],
   "source": [
    "print(msg1[2])"
   ]
  },
  {
   "cell_type": "code",
   "execution_count": 85,
   "metadata": {},
   "outputs": [
    {
     "name": "stdout",
     "output_type": "stream",
     "text": [
      "False\n"
     ]
    }
   ],
   "source": [
    "print(\"12123123\" in msg1)"
   ]
  },
  {
   "cell_type": "code",
   "execution_count": 90,
   "metadata": {},
   "outputs": [
    {
     "name": "stdout",
     "output_type": "stream",
     "text": [
      "<class 'int'>\n",
      "<class 'float'>\n"
     ]
    }
   ],
   "source": [
    "#Integers & Float\n",
    "\n",
    "inte = 12\n",
    "flt = 10.2\n",
    "\n",
    "print(type(inte))\n",
    "print(type(flt))"
   ]
  },
  {
   "cell_type": "code",
   "execution_count": 103,
   "metadata": {},
   "outputs": [
    {
     "data": {
      "text/plain": [
       "12.2"
      ]
     },
     "execution_count": 103,
     "metadata": {},
     "output_type": "execute_result"
    }
   ],
   "source": [
    "10.2+2"
   ]
  },
  {
   "cell_type": "code",
   "execution_count": 94,
   "metadata": {},
   "outputs": [
    {
     "data": {
      "text/plain": [
       "8"
      ]
     },
     "execution_count": 94,
     "metadata": {},
     "output_type": "execute_result"
    }
   ],
   "source": [
    "10-2"
   ]
  },
  {
   "cell_type": "code",
   "execution_count": 95,
   "metadata": {},
   "outputs": [
    {
     "data": {
      "text/plain": [
       "5.0"
      ]
     },
     "execution_count": 95,
     "metadata": {},
     "output_type": "execute_result"
    }
   ],
   "source": [
    "10/2"
   ]
  },
  {
   "cell_type": "code",
   "execution_count": 96,
   "metadata": {},
   "outputs": [
    {
     "data": {
      "text/plain": [
       "20"
      ]
     },
     "execution_count": 96,
     "metadata": {},
     "output_type": "execute_result"
    }
   ],
   "source": [
    "10*2"
   ]
  },
  {
   "cell_type": "code",
   "execution_count": 98,
   "metadata": {},
   "outputs": [
    {
     "data": {
      "text/plain": [
       "100"
      ]
     },
     "execution_count": 98,
     "metadata": {},
     "output_type": "execute_result"
    }
   ],
   "source": [
    "10**2"
   ]
  },
  {
   "cell_type": "code",
   "execution_count": 100,
   "metadata": {},
   "outputs": [
    {
     "data": {
      "text/plain": [
       "2.0"
      ]
     },
     "execution_count": 100,
     "metadata": {},
     "output_type": "execute_result"
    }
   ],
   "source": [
    "4**1/2"
   ]
  },
  {
   "cell_type": "code",
   "execution_count": 104,
   "metadata": {},
   "outputs": [
    {
     "data": {
      "text/plain": [
       "1"
      ]
     },
     "execution_count": 104,
     "metadata": {},
     "output_type": "execute_result"
    }
   ],
   "source": [
    "10%3"
   ]
  },
  {
   "cell_type": "code",
   "execution_count": 117,
   "metadata": {},
   "outputs": [
    {
     "name": "stdout",
     "output_type": "stream",
     "text": [
      "pedro\n",
      "Juan\n",
      "1\n",
      "2.0\n"
     ]
    }
   ],
   "source": [
    "list = [[1,2,8,3,65],[1,2,8,3,65]]\n",
    "list1 = [\"pedro\",\"Juan\",1,2.0]\n",
    "for el in list1:\n",
    "    print(el)\n"
   ]
  },
  {
   "cell_type": "code",
   "execution_count": 120,
   "metadata": {},
   "outputs": [
    {
     "name": "stdout",
     "output_type": "stream",
     "text": [
      "           0         1\n",
      "0   0.379193  0.963894\n",
      "1   0.385212  0.861774\n",
      "2   0.911485  0.206870\n",
      "3   0.002815  0.399123\n",
      "4   0.107687  0.766912\n",
      "..       ...       ...\n",
      "95  0.960596  0.917635\n",
      "96  0.446761  0.375614\n",
      "97  0.227412  0.319842\n",
      "98  0.983532  0.631655\n",
      "99  0.701232  0.119104\n",
      "\n",
      "[100 rows x 2 columns]\n"
     ]
    }
   ],
   "source": [
    "import pandas as pd\n",
    "import numpy as np\n",
    "\n",
    "df = pd.DataFrame(np.random.rand(100,2))\n",
    "print(df)"
   ]
  },
  {
   "cell_type": "code",
   "execution_count": 125,
   "metadata": {},
   "outputs": [
    {
     "name": "stdout",
     "output_type": "stream",
     "text": [
      "hola\n"
     ]
    }
   ],
   "source": [
    "boole = 1\n",
    "boole1 = 0\n",
    "\n",
    "if boole: \n",
    "    print(\"hola\")\n"
   ]
  },
  {
   "cell_type": "code",
   "execution_count": null,
   "metadata": {},
   "outputs": [],
   "source": [
    "if sta\n",
    "for loops\n",
    "while loops\n",
    "\n",
    "matplotlib\n",
    "\n",
    "pandas\n",
    "numpy\n",
    "\n",
    "dict\n",
    "and or "
   ]
  }
 ],
 "metadata": {
  "kernelspec": {
   "display_name": "Python 3",
   "language": "python",
   "name": "python3"
  },
  "language_info": {
   "codemirror_mode": {
    "name": "ipython",
    "version": 3
   },
   "file_extension": ".py",
   "mimetype": "text/x-python",
   "name": "python",
   "nbconvert_exporter": "python",
   "pygments_lexer": "ipython3",
   "version": "3.8.5"
  }
 },
 "nbformat": 4,
 "nbformat_minor": 4
}
